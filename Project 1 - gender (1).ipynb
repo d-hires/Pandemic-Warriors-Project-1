{
 "cells": [
  {
   "cell_type": "code",
   "execution_count": 1,
   "metadata": {},
   "outputs": [
    {
     "name": "stderr",
     "output_type": "stream",
     "text": [
      "WARNING:root:Requests made without an app_token will be subject to strict throttling limits.\n"
     ]
    },
    {
     "ename": "NameError",
     "evalue": "name 'us_by_age_df' is not defined",
     "output_type": "error",
     "traceback": [
      "\u001b[1;31m---------------------------------------------------------------------------\u001b[0m",
      "\u001b[1;31mNameError\u001b[0m                                 Traceback (most recent call last)",
      "\u001b[1;32m<ipython-input-1-58002e3e98f5>\u001b[0m in \u001b[0;36m<module>\u001b[1;34m\u001b[0m\n\u001b[0;32m     10\u001b[0m \u001b[0mresults_df\u001b[0m \u001b[1;33m=\u001b[0m \u001b[0mpd\u001b[0m\u001b[1;33m.\u001b[0m\u001b[0mDataFrame\u001b[0m\u001b[1;33m.\u001b[0m\u001b[0mfrom_records\u001b[0m\u001b[1;33m(\u001b[0m\u001b[0mresults\u001b[0m\u001b[1;33m)\u001b[0m\u001b[1;33m\u001b[0m\u001b[1;33m\u001b[0m\u001b[0m\n\u001b[0;32m     11\u001b[0m \u001b[0mresults_df\u001b[0m\u001b[1;33m\u001b[0m\u001b[1;33m\u001b[0m\u001b[0m\n\u001b[1;32m---> 12\u001b[1;33m \u001b[0mus_by_age_trim_df\u001b[0m\u001b[1;33m[\u001b[0m\u001b[1;34m'week'\u001b[0m\u001b[1;33m]\u001b[0m \u001b[1;33m=\u001b[0m \u001b[0mus_by_age_df\u001b[0m\u001b[1;33m[\u001b[0m\u001b[1;34m'week'\u001b[0m\u001b[1;33m]\u001b[0m\u001b[1;33m.\u001b[0m\u001b[0mastype\u001b[0m\u001b[1;33m(\u001b[0m\u001b[0mint\u001b[0m\u001b[1;33m)\u001b[0m\u001b[1;33m\u001b[0m\u001b[1;33m\u001b[0m\u001b[0m\n\u001b[0m",
      "\u001b[1;31mNameError\u001b[0m: name 'us_by_age_df' is not defined"
     ]
    }
   ],
   "source": [
    "#Dependencies and Setup\n",
    "import pandas as pd\n",
    "import numpy as np\n",
    "import json\n",
    "from sodapy import Socrata\n",
    "client = Socrata(\"data.cdc.gov\", None)\n",
    "#Read file and store into data frame\n",
    "\n",
    "results = client.get(\"8pt5-q6wp\", limit=2000)\n",
    "results_df = pd.DataFrame.from_records(results)\n",
    "results_df\n",
    "us_by_age_trim_df['week'] = us_by_age_df['week'].astype(int)"
   ]
  },
  {
   "cell_type": "markdown",
   "metadata": {},
   "source": [
    "Gender Demographics:\n",
    "*Total of Gender data entries\n",
    "*Total of females\n",
    "*Total of males\n",
    "*The average of each value of week set by gender\n",
    "(could not do by state - group data was only given United States)"
   ]
  },
  {
   "cell_type": "code",
   "execution_count": null,
   "metadata": {},
   "outputs": [],
   "source": [
    "#create gender list to pull gender information only\n",
    "#https://www.youtube.com/watch?v=3Kl5oaT0dP0\n",
    "genderdata_df = results_df.loc[(results_df[\"group\"] == \"By Gender\")]\n",
    "genderdata_df\n",
    "#print(genderdata_df)"
   ]
  },
  {
   "cell_type": "code",
   "execution_count": null,
   "metadata": {},
   "outputs": [],
   "source": [
    "genderdata_df.groupby(\"group\").count()"
   ]
  },
  {
   "cell_type": "code",
   "execution_count": null,
   "metadata": {},
   "outputs": [],
   "source": [
    "#Create female df\n",
    "femalegender_df = genderdata_df.loc[(genderdata_df[\"subgroup\"] == \"Female\")]\n",
    "femalegender_df.head(3)                                     "
   ]
  },
  {
   "cell_type": "code",
   "execution_count": null,
   "metadata": {},
   "outputs": [],
   "source": [
    "#how many females\n",
    "femalegender_df.count()[\"subgroup\"]"
   ]
  },
  {
   "cell_type": "code",
   "execution_count": null,
   "metadata": {
    "scrolled": true
   },
   "outputs": [],
   "source": [
    "#Find the average of values for females through each week label set so Jessica can graph\n",
    "femalegender_df['week'] = femalegender_df['week'].astype(int)\n",
    "femalegender_df['value']=femalegender_df['value'].astype(float)\n",
    "femalegender_df.groupby('week').mean()"
   ]
  },
  {
   "cell_type": "code",
   "execution_count": null,
   "metadata": {},
   "outputs": [],
   "source": [
    "#make horizontial bar chart for female values\n",
    "femalegender_df.groupby('week').mean()\n",
    "value_count.plot(kind=\"barh\")\n",
    "plt.title(\"National Female Mental Health Disorder Average Percentage\")\n",
    "plt.xlabel(\"Weeks\")\n",
    "plt.ylabel(\"Disorders\")"
   ]
  },
  {
   "cell_type": "code",
   "execution_count": null,
   "metadata": {},
   "outputs": [],
   "source": [
    "#Create male data only\n",
    "malegender_df = genderdata_df.loc[(genderdata_df[\"subgroup\"] == \"Male\")]\n",
    "malegender_df.head(3) "
   ]
  },
  {
   "cell_type": "code",
   "execution_count": null,
   "metadata": {},
   "outputs": [],
   "source": [
    "#how many males\n",
    "malegender_df.count()[\"subgroup\"]"
   ]
  },
  {
   "cell_type": "code",
   "execution_count": null,
   "metadata": {},
   "outputs": [],
   "source": [
    "malegender_df['week'] = malegender_df['week'].astype(int)\n",
    "malegender_df['value']=malegender_df['value'].astype(float)\n",
    "malegender_df.groupby('week').mean()"
   ]
  },
  {
   "cell_type": "code",
   "execution_count": null,
   "metadata": {},
   "outputs": [],
   "source": []
  },
  {
   "cell_type": "code",
   "execution_count": null,
   "metadata": {},
   "outputs": [],
   "source": []
  }
 ],
 "metadata": {
  "kernelspec": {
   "display_name": "Python 3",
   "language": "python",
   "name": "python3"
  },
  "language_info": {
   "codemirror_mode": {
    "name": "ipython",
    "version": 3
   },
   "file_extension": ".py",
   "mimetype": "text/x-python",
   "name": "python",
   "nbconvert_exporter": "python",
   "pygments_lexer": "ipython3",
   "version": "3.7.6"
  }
 },
 "nbformat": 4,
 "nbformat_minor": 4
}
