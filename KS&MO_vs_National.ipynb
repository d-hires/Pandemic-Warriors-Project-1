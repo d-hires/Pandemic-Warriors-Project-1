{
 "cells": [
  {
   "cell_type": "code",
   "execution_count": 1,
   "metadata": {},
   "outputs": [],
   "source": [
    "import pandas as pd\n",
    "import matplotlib.pyplot as plt\n",
    "from matplotlib.font_manager import FontProperties\n",
    "import scipy.stats as st\n",
    "import numpy as np\n",
    "import itertools\n",
    "import random\n",
    "import matplotlib.cm as cm"
   ]
  },
  {
   "cell_type": "code",
   "execution_count": 2,
   "metadata": {
    "scrolled": true
   },
   "outputs": [
    {
     "data": {
      "text/html": [
       "<div>\n",
       "<style scoped>\n",
       "    .dataframe tbody tr th:only-of-type {\n",
       "        vertical-align: middle;\n",
       "    }\n",
       "\n",
       "    .dataframe tbody tr th {\n",
       "        vertical-align: top;\n",
       "    }\n",
       "\n",
       "    .dataframe thead th {\n",
       "        text-align: right;\n",
       "    }\n",
       "</style>\n",
       "<table border=\"1\" class=\"dataframe\">\n",
       "  <thead>\n",
       "    <tr style=\"text-align: right;\">\n",
       "      <th></th>\n",
       "      <th>Unnamed: 0</th>\n",
       "      <th>indicator</th>\n",
       "      <th>group</th>\n",
       "      <th>state</th>\n",
       "      <th>subgroup</th>\n",
       "      <th>week</th>\n",
       "      <th>week_label</th>\n",
       "      <th>value</th>\n",
       "      <th>lowci</th>\n",
       "      <th>highci</th>\n",
       "      <th>confidence_interval</th>\n",
       "      <th>quartile_range</th>\n",
       "    </tr>\n",
       "  </thead>\n",
       "  <tbody>\n",
       "    <tr>\n",
       "      <th>0</th>\n",
       "      <td>0</td>\n",
       "      <td>Symptoms of Depressive Disorder</td>\n",
       "      <td>National Estimate</td>\n",
       "      <td>United States</td>\n",
       "      <td>United States</td>\n",
       "      <td>1</td>\n",
       "      <td>Apr 23 - May 5</td>\n",
       "      <td>23.5</td>\n",
       "      <td>22.7</td>\n",
       "      <td>24.3</td>\n",
       "      <td>22.7 - 24.3</td>\n",
       "      <td>NaN</td>\n",
       "    </tr>\n",
       "    <tr>\n",
       "      <th>1</th>\n",
       "      <td>1</td>\n",
       "      <td>Symptoms of Depressive Disorder</td>\n",
       "      <td>By Age</td>\n",
       "      <td>United States</td>\n",
       "      <td>18 - 29 years</td>\n",
       "      <td>1</td>\n",
       "      <td>Apr 23 - May 5</td>\n",
       "      <td>32.7</td>\n",
       "      <td>30.2</td>\n",
       "      <td>35.2</td>\n",
       "      <td>30.2 - 35.2</td>\n",
       "      <td>NaN</td>\n",
       "    </tr>\n",
       "    <tr>\n",
       "      <th>2</th>\n",
       "      <td>2</td>\n",
       "      <td>Symptoms of Depressive Disorder</td>\n",
       "      <td>By Age</td>\n",
       "      <td>United States</td>\n",
       "      <td>30 - 39 years</td>\n",
       "      <td>1</td>\n",
       "      <td>Apr 23 - May 5</td>\n",
       "      <td>25.7</td>\n",
       "      <td>24.1</td>\n",
       "      <td>27.3</td>\n",
       "      <td>24.1 - 27.3</td>\n",
       "      <td>NaN</td>\n",
       "    </tr>\n",
       "    <tr>\n",
       "      <th>3</th>\n",
       "      <td>3</td>\n",
       "      <td>Symptoms of Depressive Disorder</td>\n",
       "      <td>By Age</td>\n",
       "      <td>United States</td>\n",
       "      <td>40 - 49 years</td>\n",
       "      <td>1</td>\n",
       "      <td>Apr 23 - May 5</td>\n",
       "      <td>24.8</td>\n",
       "      <td>23.3</td>\n",
       "      <td>26.2</td>\n",
       "      <td>23.3 - 26.2</td>\n",
       "      <td>NaN</td>\n",
       "    </tr>\n",
       "    <tr>\n",
       "      <th>4</th>\n",
       "      <td>4</td>\n",
       "      <td>Symptoms of Depressive Disorder</td>\n",
       "      <td>By Age</td>\n",
       "      <td>United States</td>\n",
       "      <td>50 - 59 years</td>\n",
       "      <td>1</td>\n",
       "      <td>Apr 23 - May 5</td>\n",
       "      <td>23.2</td>\n",
       "      <td>21.5</td>\n",
       "      <td>25.0</td>\n",
       "      <td>21.5 - 25.0</td>\n",
       "      <td>NaN</td>\n",
       "    </tr>\n",
       "    <tr>\n",
       "      <th>...</th>\n",
       "      <td>...</td>\n",
       "      <td>...</td>\n",
       "      <td>...</td>\n",
       "      <td>...</td>\n",
       "      <td>...</td>\n",
       "      <td>...</td>\n",
       "      <td>...</td>\n",
       "      <td>...</td>\n",
       "      <td>...</td>\n",
       "      <td>...</td>\n",
       "      <td>...</td>\n",
       "      <td>...</td>\n",
       "    </tr>\n",
       "    <tr>\n",
       "      <th>1995</th>\n",
       "      <td>1995</td>\n",
       "      <td>Symptoms of Anxiety Disorder</td>\n",
       "      <td>By State</td>\n",
       "      <td>Kansas</td>\n",
       "      <td>Kansas</td>\n",
       "      <td>10</td>\n",
       "      <td>July 2 - July 7</td>\n",
       "      <td>32.3</td>\n",
       "      <td>28.2</td>\n",
       "      <td>36.6</td>\n",
       "      <td>28.2 - 36.6</td>\n",
       "      <td>31.4-32.9</td>\n",
       "    </tr>\n",
       "    <tr>\n",
       "      <th>1996</th>\n",
       "      <td>1996</td>\n",
       "      <td>Symptoms of Anxiety Disorder</td>\n",
       "      <td>By State</td>\n",
       "      <td>Kentucky</td>\n",
       "      <td>Kentucky</td>\n",
       "      <td>10</td>\n",
       "      <td>July 2 - July 7</td>\n",
       "      <td>36.3</td>\n",
       "      <td>31.2</td>\n",
       "      <td>41.6</td>\n",
       "      <td>31.2 - 41.6</td>\n",
       "      <td>35.4-40.6</td>\n",
       "    </tr>\n",
       "    <tr>\n",
       "      <th>1997</th>\n",
       "      <td>1997</td>\n",
       "      <td>Symptoms of Anxiety Disorder</td>\n",
       "      <td>By State</td>\n",
       "      <td>Louisiana</td>\n",
       "      <td>Louisiana</td>\n",
       "      <td>10</td>\n",
       "      <td>July 2 - July 7</td>\n",
       "      <td>38.6</td>\n",
       "      <td>34.2</td>\n",
       "      <td>43.1</td>\n",
       "      <td>34.2 - 43.1</td>\n",
       "      <td>35.4-40.6</td>\n",
       "    </tr>\n",
       "    <tr>\n",
       "      <th>1998</th>\n",
       "      <td>1998</td>\n",
       "      <td>Symptoms of Anxiety Disorder</td>\n",
       "      <td>By State</td>\n",
       "      <td>Maine</td>\n",
       "      <td>Maine</td>\n",
       "      <td>10</td>\n",
       "      <td>July 2 - July 7</td>\n",
       "      <td>32.8</td>\n",
       "      <td>29.0</td>\n",
       "      <td>36.7</td>\n",
       "      <td>29.0 - 36.7</td>\n",
       "      <td>31.4-32.9</td>\n",
       "    </tr>\n",
       "    <tr>\n",
       "      <th>1999</th>\n",
       "      <td>1999</td>\n",
       "      <td>Symptoms of Anxiety Disorder</td>\n",
       "      <td>By State</td>\n",
       "      <td>Maryland</td>\n",
       "      <td>Maryland</td>\n",
       "      <td>10</td>\n",
       "      <td>July 2 - July 7</td>\n",
       "      <td>32.2</td>\n",
       "      <td>27.9</td>\n",
       "      <td>36.7</td>\n",
       "      <td>27.9 - 36.7</td>\n",
       "      <td>31.4-32.9</td>\n",
       "    </tr>\n",
       "  </tbody>\n",
       "</table>\n",
       "<p>2000 rows × 12 columns</p>\n",
       "</div>"
      ],
      "text/plain": [
       "      Unnamed: 0                        indicator              group  \\\n",
       "0              0  Symptoms of Depressive Disorder  National Estimate   \n",
       "1              1  Symptoms of Depressive Disorder             By Age   \n",
       "2              2  Symptoms of Depressive Disorder             By Age   \n",
       "3              3  Symptoms of Depressive Disorder             By Age   \n",
       "4              4  Symptoms of Depressive Disorder             By Age   \n",
       "...          ...                              ...                ...   \n",
       "1995        1995     Symptoms of Anxiety Disorder           By State   \n",
       "1996        1996     Symptoms of Anxiety Disorder           By State   \n",
       "1997        1997     Symptoms of Anxiety Disorder           By State   \n",
       "1998        1998     Symptoms of Anxiety Disorder           By State   \n",
       "1999        1999     Symptoms of Anxiety Disorder           By State   \n",
       "\n",
       "              state       subgroup  week       week_label  value  lowci  \\\n",
       "0     United States  United States     1   Apr 23 - May 5   23.5   22.7   \n",
       "1     United States  18 - 29 years     1   Apr 23 - May 5   32.7   30.2   \n",
       "2     United States  30 - 39 years     1   Apr 23 - May 5   25.7   24.1   \n",
       "3     United States  40 - 49 years     1   Apr 23 - May 5   24.8   23.3   \n",
       "4     United States  50 - 59 years     1   Apr 23 - May 5   23.2   21.5   \n",
       "...             ...            ...   ...              ...    ...    ...   \n",
       "1995         Kansas         Kansas    10  July 2 - July 7   32.3   28.2   \n",
       "1996       Kentucky       Kentucky    10  July 2 - July 7   36.3   31.2   \n",
       "1997      Louisiana      Louisiana    10  July 2 - July 7   38.6   34.2   \n",
       "1998          Maine          Maine    10  July 2 - July 7   32.8   29.0   \n",
       "1999       Maryland       Maryland    10  July 2 - July 7   32.2   27.9   \n",
       "\n",
       "      highci confidence_interval quartile_range  \n",
       "0       24.3         22.7 - 24.3            NaN  \n",
       "1       35.2         30.2 - 35.2            NaN  \n",
       "2       27.3         24.1 - 27.3            NaN  \n",
       "3       26.2         23.3 - 26.2            NaN  \n",
       "4       25.0         21.5 - 25.0            NaN  \n",
       "...      ...                 ...            ...  \n",
       "1995    36.6         28.2 - 36.6      31.4-32.9  \n",
       "1996    41.6         31.2 - 41.6      35.4-40.6  \n",
       "1997    43.1         34.2 - 43.1      35.4-40.6  \n",
       "1998    36.7         29.0 - 36.7      31.4-32.9  \n",
       "1999    36.7         27.9 - 36.7      31.4-32.9  \n",
       "\n",
       "[2000 rows x 12 columns]"
      ]
     },
     "execution_count": 2,
     "metadata": {},
     "output_type": "execute_result"
    }
   ],
   "source": [
    "file='cvs_output.csv'\n",
    "\n",
    "file_one = pd.read_csv(file)\n",
    "file_one"
   ]
  },
  {
   "cell_type": "code",
   "execution_count": 3,
   "metadata": {},
   "outputs": [
    {
     "data": {
      "text/html": [
       "<div>\n",
       "<style scoped>\n",
       "    .dataframe tbody tr th:only-of-type {\n",
       "        vertical-align: middle;\n",
       "    }\n",
       "\n",
       "    .dataframe tbody tr th {\n",
       "        vertical-align: top;\n",
       "    }\n",
       "\n",
       "    .dataframe thead th {\n",
       "        text-align: right;\n",
       "    }\n",
       "</style>\n",
       "<table border=\"1\" class=\"dataframe\">\n",
       "  <thead>\n",
       "    <tr style=\"text-align: right;\">\n",
       "      <th></th>\n",
       "      <th></th>\n",
       "      <th>KS &amp; MO Average(%)</th>\n",
       "    </tr>\n",
       "    <tr>\n",
       "      <th>week</th>\n",
       "      <th>indicator</th>\n",
       "      <th></th>\n",
       "    </tr>\n",
       "  </thead>\n",
       "  <tbody>\n",
       "    <tr>\n",
       "      <th rowspan=\"3\" valign=\"top\">1</th>\n",
       "      <th>Symptoms of Anxiety Disorder</th>\n",
       "      <td>28.40</td>\n",
       "    </tr>\n",
       "    <tr>\n",
       "      <th>Symptoms of Anxiety Disorder or Depressive Disorder</th>\n",
       "      <td>33.85</td>\n",
       "    </tr>\n",
       "    <tr>\n",
       "      <th>Symptoms of Depressive Disorder</th>\n",
       "      <td>21.55</td>\n",
       "    </tr>\n",
       "    <tr>\n",
       "      <th rowspan=\"2\" valign=\"top\">2</th>\n",
       "      <th>Symptoms of Anxiety Disorder</th>\n",
       "      <td>31.45</td>\n",
       "    </tr>\n",
       "    <tr>\n",
       "      <th>Symptoms of Anxiety Disorder or Depressive Disorder</th>\n",
       "      <td>34.65</td>\n",
       "    </tr>\n",
       "  </tbody>\n",
       "</table>\n",
       "</div>"
      ],
      "text/plain": [
       "                                                         KS & MO Average(%)\n",
       "week indicator                                                             \n",
       "1    Symptoms of Anxiety Disorder                                     28.40\n",
       "     Symptoms of Anxiety Disorder or Depressive Diso...               33.85\n",
       "     Symptoms of Depressive Disorder                                  21.55\n",
       "2    Symptoms of Anxiety Disorder                                     31.45\n",
       "     Symptoms of Anxiety Disorder or Depressive Diso...               34.65"
      ]
     },
     "execution_count": 3,
     "metadata": {},
     "output_type": "execute_result"
    }
   ],
   "source": [
    "kansas_df = file_one.loc[file_one[\"state\"] == \"Kansas\", :]\n",
    "kansas_df['indicator'].value_counts()\n",
    "kansas_df\n",
    "\n",
    "missouri_df=file_one.loc[file_one['state']=='Missouri']\n",
    "missouri_df\n",
    "\n",
    "ks_mo=pd.merge(kansas_df,missouri_df, how='outer')\n",
    "ks_mo\n",
    "\n",
    "cleaned_KsMo=ks_mo[['indicator','state','week','value']]\n",
    "cleaned_KsMo\n",
    "\n",
    "cleaned=cleaned_KsMo.groupby(['week','indicator'])\n",
    "cleaned.count().head(10)\n",
    "\n",
    "state_mean=cleaned['value'].mean()\n",
    "final=pd.DataFrame({'KS & MO Average(%)':state_mean})\n",
    "final.head()\n"
   ]
  },
  {
   "cell_type": "code",
   "execution_count": 4,
   "metadata": {},
   "outputs": [
    {
     "data": {
      "text/html": [
       "<div>\n",
       "<style scoped>\n",
       "    .dataframe tbody tr th:only-of-type {\n",
       "        vertical-align: middle;\n",
       "    }\n",
       "\n",
       "    .dataframe tbody tr th {\n",
       "        vertical-align: top;\n",
       "    }\n",
       "\n",
       "    .dataframe thead th {\n",
       "        text-align: right;\n",
       "    }\n",
       "</style>\n",
       "<table border=\"1\" class=\"dataframe\">\n",
       "  <thead>\n",
       "    <tr style=\"text-align: right;\">\n",
       "      <th></th>\n",
       "      <th>indicator</th>\n",
       "      <th>week</th>\n",
       "      <th>state</th>\n",
       "      <th>value</th>\n",
       "    </tr>\n",
       "  </thead>\n",
       "  <tbody>\n",
       "    <tr>\n",
       "      <th>0</th>\n",
       "      <td>Symptoms of Depressive Disorder</td>\n",
       "      <td>1</td>\n",
       "      <td>United States</td>\n",
       "      <td>23.5</td>\n",
       "    </tr>\n",
       "    <tr>\n",
       "      <th>1</th>\n",
       "      <td>Symptoms of Depressive Disorder</td>\n",
       "      <td>1</td>\n",
       "      <td>United States</td>\n",
       "      <td>32.7</td>\n",
       "    </tr>\n",
       "    <tr>\n",
       "      <th>2</th>\n",
       "      <td>Symptoms of Depressive Disorder</td>\n",
       "      <td>1</td>\n",
       "      <td>United States</td>\n",
       "      <td>25.7</td>\n",
       "    </tr>\n",
       "  </tbody>\n",
       "</table>\n",
       "</div>"
      ],
      "text/plain": [
       "                         indicator  week          state  value\n",
       "0  Symptoms of Depressive Disorder     1  United States   23.5\n",
       "1  Symptoms of Depressive Disorder     1  United States   32.7\n",
       "2  Symptoms of Depressive Disorder     1  United States   25.7"
      ]
     },
     "execution_count": 4,
     "metadata": {},
     "output_type": "execute_result"
    }
   ],
   "source": [
    "new_name_df= file_one[[\"indicator\", \"week\",\"state\", \"value\"]].copy()\n",
    "new_name_df[:3] "
   ]
  },
  {
   "cell_type": "code",
   "execution_count": 5,
   "metadata": {},
   "outputs": [
    {
     "data": {
      "text/html": [
       "<div>\n",
       "<style scoped>\n",
       "    .dataframe tbody tr th:only-of-type {\n",
       "        vertical-align: middle;\n",
       "    }\n",
       "\n",
       "    .dataframe tbody tr th {\n",
       "        vertical-align: top;\n",
       "    }\n",
       "\n",
       "    .dataframe thead th {\n",
       "        text-align: right;\n",
       "    }\n",
       "</style>\n",
       "<table border=\"1\" class=\"dataframe\">\n",
       "  <thead>\n",
       "    <tr style=\"text-align: right;\">\n",
       "      <th></th>\n",
       "      <th>indicator</th>\n",
       "      <th>week</th>\n",
       "      <th>state</th>\n",
       "      <th>value</th>\n",
       "    </tr>\n",
       "  </thead>\n",
       "  <tbody>\n",
       "    <tr>\n",
       "      <th>35</th>\n",
       "      <td>Symptoms of Depressive Disorder</td>\n",
       "      <td>1</td>\n",
       "      <td>Kansas</td>\n",
       "      <td>22.1</td>\n",
       "    </tr>\n",
       "    <tr>\n",
       "      <th>105</th>\n",
       "      <td>Symptoms of Anxiety Disorder</td>\n",
       "      <td>1</td>\n",
       "      <td>Kansas</td>\n",
       "      <td>26.4</td>\n",
       "    </tr>\n",
       "    <tr>\n",
       "      <th>175</th>\n",
       "      <td>Symptoms of Anxiety Disorder or Depressive Dis...</td>\n",
       "      <td>1</td>\n",
       "      <td>Kansas</td>\n",
       "      <td>32.5</td>\n",
       "    </tr>\n",
       "  </tbody>\n",
       "</table>\n",
       "</div>"
      ],
      "text/plain": [
       "                                             indicator  week   state  value\n",
       "35                     Symptoms of Depressive Disorder     1  Kansas   22.1\n",
       "105                       Symptoms of Anxiety Disorder     1  Kansas   26.4\n",
       "175  Symptoms of Anxiety Disorder or Depressive Dis...     1  Kansas   32.5"
      ]
     },
     "execution_count": 5,
     "metadata": {},
     "output_type": "execute_result"
    }
   ],
   "source": [
    "#chart for kansas \n",
    "kansas_df = new_name_df.loc[(new_name_df[\"state\"] == \"Kansas\")]\n",
    "kansas_df[:3]"
   ]
  },
  {
   "cell_type": "code",
   "execution_count": 6,
   "metadata": {},
   "outputs": [
    {
     "data": {
      "text/plain": [
       "indicator\n",
       "Symptoms of Anxiety Disorder                           10\n",
       "Symptoms of Anxiety Disorder or Depressive Disorder     9\n",
       "Symptoms of Depressive Disorder                        10\n",
       "Name: week, dtype: int64"
      ]
     },
     "execution_count": 6,
     "metadata": {},
     "output_type": "execute_result"
    }
   ],
   "source": [
    "# kansas_df.dtypes\n",
    "# kansas_df[\"week\"]\n",
    "ks_wks= kansas_df.groupby(\"indicator\")[\"week\"].count()\n",
    "ks_wks\n"
   ]
  },
  {
   "cell_type": "code",
   "execution_count": 37,
   "metadata": {
    "scrolled": true
   },
   "outputs": [
    {
     "data": {
      "image/png": "[encoded data removed]",
      "text/plain": [
       "<Figure size 432x432 with 1 Axes>"
      ]
     },
     "metadata": {},
     "output_type": "display_data"
    }
   ],
   "source": [
    "# plt.scatter(kansas_df[\"value\"],kansas_df[\"indicator\"], marker=\"*\",\n",
    "#              facecolors =\"slateblue\")\n",
    "# plt.xlabel(\"Percentages\")\n",
    "# plt.ylabel(\"Average Percentage for Kansas\") \n",
    "labels= {\"Anxiety\",\"Depression\", \"D & A\"}\n",
    "sizes = [26,32,22]\n",
    "colors = {\"steelblue\", \"lightblue\",\"skyblue\"}\n",
    "explode = (0.1,0.1,0)\n",
    "\n",
    "figure = plt.subplots(figsize=(6, 6))\n",
    "plt.pie(sizes, explode=explode,labels=labels, colors=colors, autopct=\"%1.0f%%\",shadow=True, startangle=140,)\n",
    "plt.axis(\"equal\",fontsize = 12)\n",
    "\n",
    "plt.show()"
   ]
  },
  {
   "cell_type": "code",
   "execution_count": 8,
   "metadata": {},
   "outputs": [
    {
     "data": {
      "text/plain": [
       "Text(0.5, 0, 'value')"
      ]
     },
     "execution_count": 8,
     "metadata": {},
     "output_type": "execute_result"
    },
    {
     "data": {
      "image/png": "[encoded data removed]",
      "text/plain": [
       "<Figure size 432x288 with 1 Axes>"
      ]
     },
     "metadata": {
      "needs_background": "light"
     },
     "output_type": "display_data"
    }
   ],
   "source": [
    "ks_wks.plot(kind=\"barh\", fontsize=(14), color=\"steelblue\", width=.40, edgeColor=('black'), linestyle='-')\n",
    "plt.xlabel((\"value\"),color=\"black\", fontsize=14)"
   ]
  },
  {
   "cell_type": "code",
   "execution_count": 9,
   "metadata": {},
   "outputs": [
    {
     "data": {
      "text/html": [
       "<div>\n",
       "<style scoped>\n",
       "    .dataframe tbody tr th:only-of-type {\n",
       "        vertical-align: middle;\n",
       "    }\n",
       "\n",
       "    .dataframe tbody tr th {\n",
       "        vertical-align: top;\n",
       "    }\n",
       "\n",
       "    .dataframe thead th {\n",
       "        text-align: right;\n",
       "    }\n",
       "</style>\n",
       "<table border=\"1\" class=\"dataframe\">\n",
       "  <thead>\n",
       "    <tr style=\"text-align: right;\">\n",
       "      <th></th>\n",
       "      <th>indicator</th>\n",
       "      <th>week</th>\n",
       "      <th>state</th>\n",
       "      <th>value</th>\n",
       "    </tr>\n",
       "  </thead>\n",
       "  <tbody>\n",
       "    <tr>\n",
       "      <th>44</th>\n",
       "      <td>Symptoms of Depressive Disorder</td>\n",
       "      <td>1</td>\n",
       "      <td>Missouri</td>\n",
       "      <td>21.0</td>\n",
       "    </tr>\n",
       "    <tr>\n",
       "      <th>114</th>\n",
       "      <td>Symptoms of Anxiety Disorder</td>\n",
       "      <td>1</td>\n",
       "      <td>Missouri</td>\n",
       "      <td>30.4</td>\n",
       "    </tr>\n",
       "    <tr>\n",
       "      <th>184</th>\n",
       "      <td>Symptoms of Anxiety Disorder or Depressive Dis...</td>\n",
       "      <td>1</td>\n",
       "      <td>Missouri</td>\n",
       "      <td>35.2</td>\n",
       "    </tr>\n",
       "  </tbody>\n",
       "</table>\n",
       "</div>"
      ],
      "text/plain": [
       "                                             indicator  week     state  value\n",
       "44                     Symptoms of Depressive Disorder     1  Missouri   21.0\n",
       "114                       Symptoms of Anxiety Disorder     1  Missouri   30.4\n",
       "184  Symptoms of Anxiety Disorder or Depressive Dis...     1  Missouri   35.2"
      ]
     },
     "execution_count": 9,
     "metadata": {},
     "output_type": "execute_result"
    }
   ],
   "source": [
    "#chart for kansas \n",
    "Mo_df = new_name_df.loc[(new_name_df[\"state\"]=='Missouri')]\n",
    "#kansas_df[['indicator', 'week']].value_counts()\n",
    "Mo_df[:3]"
   ]
  },
  {
   "cell_type": "code",
   "execution_count": 10,
   "metadata": {
    "scrolled": true
   },
   "outputs": [
    {
     "data": {
      "text/plain": [
       "Text(0.5, 0, 'Average Percentage for Missouri(in %)')"
      ]
     },
     "execution_count": 10,
     "metadata": {},
     "output_type": "execute_result"
    },
    {
     "data": {
      "image/png": "[encoded data removed]",
      "text/plain": [
       "<Figure size 432x288 with 1 Axes>"
      ]
     },
     "metadata": {
      "needs_background": "light"
     },
     "output_type": "display_data"
    }
   ],
   "source": [
    "# mo_wks=Mo_df.groupby(\"indicator\")[\"week\"].count()\n",
    "# mo_wks.plot\n",
    "\n",
    "# mo_wks.plot(kind=\"barh\",fontsize=(14),color=\"darkred\", width=.40,edgeColor=('black'),linestyle='-')\n",
    "# plt.xlabel((\"Weeks\"),color=\"black\", fontsize=14)\n",
    "\n",
    "plt.scatter(Mo_df[\"value\"],Mo_df[\"indicator\"])\n",
    "plt.title(\"Mental Health in Kansas\")\n",
    "plt.xlabel(\"Average Percentage for Missouri(in %)\")"
   ]
  },
  {
   "cell_type": "code",
   "execution_count": 11,
   "metadata": {},
   "outputs": [
    {
     "data": {
      "text/html": [
       "<div>\n",
       "<style scoped>\n",
       "    .dataframe tbody tr th:only-of-type {\n",
       "        vertical-align: middle;\n",
       "    }\n",
       "\n",
       "    .dataframe tbody tr th {\n",
       "        vertical-align: top;\n",
       "    }\n",
       "\n",
       "    .dataframe thead th {\n",
       "        text-align: right;\n",
       "    }\n",
       "</style>\n",
       "<table border=\"1\" class=\"dataframe\">\n",
       "  <thead>\n",
       "    <tr style=\"text-align: right;\">\n",
       "      <th></th>\n",
       "      <th>indicator</th>\n",
       "      <th>state</th>\n",
       "      <th>week</th>\n",
       "      <th>value</th>\n",
       "    </tr>\n",
       "  </thead>\n",
       "  <tbody>\n",
       "    <tr>\n",
       "      <th>0</th>\n",
       "      <td>Symptoms of Depressive Disorder</td>\n",
       "      <td>United States</td>\n",
       "      <td>1</td>\n",
       "      <td>23.5</td>\n",
       "    </tr>\n",
       "    <tr>\n",
       "      <th>1</th>\n",
       "      <td>Symptoms of Depressive Disorder</td>\n",
       "      <td>United States</td>\n",
       "      <td>1</td>\n",
       "      <td>32.7</td>\n",
       "    </tr>\n",
       "    <tr>\n",
       "      <th>2</th>\n",
       "      <td>Symptoms of Depressive Disorder</td>\n",
       "      <td>United States</td>\n",
       "      <td>1</td>\n",
       "      <td>25.7</td>\n",
       "    </tr>\n",
       "    <tr>\n",
       "      <th>3</th>\n",
       "      <td>Symptoms of Depressive Disorder</td>\n",
       "      <td>United States</td>\n",
       "      <td>1</td>\n",
       "      <td>24.8</td>\n",
       "    </tr>\n",
       "    <tr>\n",
       "      <th>4</th>\n",
       "      <td>Symptoms of Depressive Disorder</td>\n",
       "      <td>United States</td>\n",
       "      <td>1</td>\n",
       "      <td>23.2</td>\n",
       "    </tr>\n",
       "    <tr>\n",
       "      <th>...</th>\n",
       "      <td>...</td>\n",
       "      <td>...</td>\n",
       "      <td>...</td>\n",
       "      <td>...</td>\n",
       "    </tr>\n",
       "    <tr>\n",
       "      <th>1974</th>\n",
       "      <td>Symptoms of Anxiety Disorder</td>\n",
       "      <td>United States</td>\n",
       "      <td>10</td>\n",
       "      <td>43.3</td>\n",
       "    </tr>\n",
       "    <tr>\n",
       "      <th>1975</th>\n",
       "      <td>Symptoms of Anxiety Disorder</td>\n",
       "      <td>United States</td>\n",
       "      <td>10</td>\n",
       "      <td>40.7</td>\n",
       "    </tr>\n",
       "    <tr>\n",
       "      <th>1976</th>\n",
       "      <td>Symptoms of Anxiety Disorder</td>\n",
       "      <td>United States</td>\n",
       "      <td>10</td>\n",
       "      <td>34.9</td>\n",
       "    </tr>\n",
       "    <tr>\n",
       "      <th>1977</th>\n",
       "      <td>Symptoms of Anxiety Disorder</td>\n",
       "      <td>United States</td>\n",
       "      <td>10</td>\n",
       "      <td>37.0</td>\n",
       "    </tr>\n",
       "    <tr>\n",
       "      <th>1978</th>\n",
       "      <td>Symptoms of Anxiety Disorder</td>\n",
       "      <td>United States</td>\n",
       "      <td>10</td>\n",
       "      <td>28.3</td>\n",
       "    </tr>\n",
       "  </tbody>\n",
       "</table>\n",
       "<p>551 rows × 4 columns</p>\n",
       "</div>"
      ],
      "text/plain": [
       "                            indicator          state  week  value\n",
       "0     Symptoms of Depressive Disorder  United States     1   23.5\n",
       "1     Symptoms of Depressive Disorder  United States     1   32.7\n",
       "2     Symptoms of Depressive Disorder  United States     1   25.7\n",
       "3     Symptoms of Depressive Disorder  United States     1   24.8\n",
       "4     Symptoms of Depressive Disorder  United States     1   23.2\n",
       "...                               ...            ...   ...    ...\n",
       "1974     Symptoms of Anxiety Disorder  United States    10   43.3\n",
       "1975     Symptoms of Anxiety Disorder  United States    10   40.7\n",
       "1976     Symptoms of Anxiety Disorder  United States    10   34.9\n",
       "1977     Symptoms of Anxiety Disorder  United States    10   37.0\n",
       "1978     Symptoms of Anxiety Disorder  United States    10   28.3\n",
       "\n",
       "[551 rows x 4 columns]"
      ]
     },
     "execution_count": 11,
     "metadata": {},
     "output_type": "execute_result"
    }
   ],
   "source": [
    "all_states=file_one.loc[(file_one['state']=='United States')]\n",
    "all_states\n",
    "\n",
    "cleaned_all_states=all_states[['indicator','state','week', 'value']].copy()\n",
    "cleaned_all_states\n"
   ]
  },
  {
   "cell_type": "code",
   "execution_count": 12,
   "metadata": {},
   "outputs": [
    {
     "data": {
      "text/plain": [
       "Text(0.5, 0, 'Weeks')"
      ]
     },
     "execution_count": 12,
     "metadata": {},
     "output_type": "execute_result"
    },
    {
     "data": {
      "image/png": "[encoded data removed]",
      "text/plain": [
       "<Figure size 720x360 with 1 Axes>"
      ]
     },
     "metadata": {
      "needs_background": "light"
     },
     "output_type": "display_data"
    }
   ],
   "source": [
    "cleaned_all_states=cleaned_all_states.groupby(\"indicator\")[\"week\"].count()\n",
    "cleaned_all_states.plot\n",
    "\n",
    "cleaned_all_states.plot(kind=\"barh\", fontsize=(14), color=[\"steelblue\",\"darkred\",\"steelblue\"], width=.3, \n",
    "                        edgeColor=(\"black\"), figsize=(10,5), linestyle='-')\n",
    "plt.xlabel((\"Weeks\"),color=\"black\", fontsize=12)"
   ]
  },
  {
   "cell_type": "code",
   "execution_count": 13,
   "metadata": {},
   "outputs": [
    {
     "ename": "KeyError",
     "evalue": "'Column not found: week'",
     "output_type": "error",
     "traceback": [
      "\u001b[1;31m---------------------------------------------------------------------------\u001b[0m",
      "\u001b[1;31mKeyError\u001b[0m                                  Traceback (most recent call last)",
      "\u001b[1;32m<ipython-input-13-5eb00ede98a6>\u001b[0m in \u001b[0;36m<module>\u001b[1;34m\u001b[0m\n\u001b[1;32m----> 1\u001b[1;33m \u001b[0mcleaned_all_states\u001b[0m\u001b[1;33m=\u001b[0m\u001b[0mcleaned_all_states\u001b[0m\u001b[1;33m.\u001b[0m\u001b[0mgroupby\u001b[0m\u001b[1;33m(\u001b[0m\u001b[1;34m\"indicator\"\u001b[0m\u001b[1;33m)\u001b[0m\u001b[1;33m[\u001b[0m\u001b[1;34m\"week\"\u001b[0m\u001b[1;33m]\u001b[0m\u001b[1;33m.\u001b[0m\u001b[0mcount\u001b[0m\u001b[1;33m(\u001b[0m\u001b[1;33m)\u001b[0m\u001b[1;33m\u001b[0m\u001b[1;33m\u001b[0m\u001b[0m\n\u001b[0m\u001b[0;32m      2\u001b[0m \u001b[0mcleaned_all_states\u001b[0m\u001b[1;33m.\u001b[0m\u001b[0mplot\u001b[0m\u001b[1;33m\u001b[0m\u001b[1;33m\u001b[0m\u001b[0m\n\u001b[0;32m      3\u001b[0m \u001b[1;33m\u001b[0m\u001b[0m\n\u001b[0;32m      4\u001b[0m cleaned_all_states.plot(kind=\"barh\", fontsize=(14), color=[\"steelblue\",\"darkred\",\"steelblue\"], width=.3, \n\u001b[0;32m      5\u001b[0m                         edgeColor=(\"black\"), figsize=(10,5), linestyle='-')\n",
      "\u001b[1;32mC:\\ProgramData\\Anaconda3\\lib\\site-packages\\pandas\\core\\base.py\u001b[0m in \u001b[0;36m__getitem__\u001b[1;34m(self, key)\u001b[0m\n\u001b[0;32m    237\u001b[0m         \u001b[1;32melse\u001b[0m\u001b[1;33m:\u001b[0m\u001b[1;33m\u001b[0m\u001b[1;33m\u001b[0m\u001b[0m\n\u001b[0;32m    238\u001b[0m             \u001b[1;32mif\u001b[0m \u001b[0mkey\u001b[0m \u001b[1;32mnot\u001b[0m \u001b[1;32min\u001b[0m \u001b[0mself\u001b[0m\u001b[1;33m.\u001b[0m\u001b[0mobj\u001b[0m\u001b[1;33m:\u001b[0m\u001b[1;33m\u001b[0m\u001b[1;33m\u001b[0m\u001b[0m\n\u001b[1;32m--> 239\u001b[1;33m                 \u001b[1;32mraise\u001b[0m \u001b[0mKeyError\u001b[0m\u001b[1;33m(\u001b[0m\u001b[1;34mf\"Column not found: {key}\"\u001b[0m\u001b[1;33m)\u001b[0m\u001b[1;33m\u001b[0m\u001b[1;33m\u001b[0m\u001b[0m\n\u001b[0m\u001b[0;32m    240\u001b[0m             \u001b[1;32mreturn\u001b[0m \u001b[0mself\u001b[0m\u001b[1;33m.\u001b[0m\u001b[0m_gotitem\u001b[0m\u001b[1;33m(\u001b[0m\u001b[0mkey\u001b[0m\u001b[1;33m,\u001b[0m \u001b[0mndim\u001b[0m\u001b[1;33m=\u001b[0m\u001b[1;36m1\u001b[0m\u001b[1;33m)\u001b[0m\u001b[1;33m\u001b[0m\u001b[1;33m\u001b[0m\u001b[0m\n\u001b[0;32m    241\u001b[0m \u001b[1;33m\u001b[0m\u001b[0m\n",
      "\u001b[1;31mKeyError\u001b[0m: 'Column not found: week'"
     ]
    }
   ],
   "source": [
    "cleaned_all_states=cleaned_all_states.groupby(\"indicator\")[\"week\"].count()\n",
    "cleaned_all_states.plot\n",
    "\n",
    "cleaned_all_states.plot(kind=\"barh\", fontsize=(14), color=[\"steelblue\",\"darkred\",\"steelblue\"], width=.3, \n",
    "                        edgeColor=(\"black\"), figsize=(10,5), linestyle='-')\n",
    "plt.xlabel((\"Weeks\"),color=\"black\", fontsize=12)"
   ]
  },
  {
   "cell_type": "code",
   "execution_count": null,
   "metadata": {},
   "outputs": [],
   "source": [
    "# cleanedAll=cleaned_all_states.groupby(['week','indicator'])\n",
    "# cleanedAll.count().head(10)\n",
    "\n",
    "# country_mean=cleanedAll['value'].mean()\n",
    "# final_total=pd.DataFrame({'National Average(%)':country_mean})\n",
    "# final_total.head()"
   ]
  },
  {
   "cell_type": "code",
   "execution_count": null,
   "metadata": {},
   "outputs": [],
   "source": [
    "# ks_wks= kansas_df.groupby(\"indicator\")[\"week\"].count()\n",
    "# ks_wks.plot(kind=\"barh\")\n",
    "# plt.xticks(rotation=45, horizontalalignment=\"right\")\n",
    "# plt.y(\"Weeks\")"
   ]
  },
  {
   "cell_type": "code",
   "execution_count": null,
   "metadata": {},
   "outputs": [],
   "source": [
    "# # fig=plt.figure(figsize=(35,25))\n",
    "# ks_value= kansas_df.groupby(\"value\")[\"indicator\"].count()\n",
    "# ks_value.plot(kind=\"barh\")\n",
    "# plt.xticks(rotation=45, horizontalalignment=\"right\")\n",
    "# df = kansas_df[['indicator','value']]\n",
    "# df.plot(kind = 'bar')"
   ]
  }
 ],
 "metadata": {
  "kernelspec": {
   "display_name": "Python 3",
   "language": "python",
   "name": "python3"
  },
  "language_info": {
   "codemirror_mode": {
    "name": "ipython",
    "version": 3
   },
   "file_extension": ".py",
   "mimetype": "text/x-python",
   "name": "python",
   "nbconvert_exporter": "python",
   "pygments_lexer": "ipython3",
   "version": "3.7.6"
  }
 },
 "nbformat": 4,
 "nbformat_minor": 4
}
